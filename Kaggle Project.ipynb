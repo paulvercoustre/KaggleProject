{
 "cells": [
  {
   "cell_type": "markdown",
   "metadata": {},
   "source": [
    "### Loading the Data\n",
    "\n",
    "* instant - id of the record (integer)\n",
    "* dteday - date of the record (yr-month-day)\n",
    "* season - season of the record (integer, 1-4)\n",
    "* 1: Spring\n",
    "* 2: Summer\n",
    "* 3: Fall\n",
    "* 4: Winter\n",
    "* yr - year of the record(integer, 0-1)\n",
    "* 0: 2011\n",
    "* 1: 2012\n",
    "* mth - month of the record (integer, 1-12)\n",
    "* hr - hour of the record (integer, 0-23)\n",
    "* holiday - whether the day is a holiday or not (integer, 0-1)\n",
    "* weekday - day of the week (integer, 1-7)\n",
    "* workingday - whether the day is a working day (neither holiday nor weekend) or not (integer, 0-1)\n",
    "* wheathersit - weather situation (integer, 1-4)\n",
    "* 1: clear, few clouds, or partly cloudy\n",
    "* 2: mist (no precipitation)\n",
    "* 3: light rain or light snow\n",
    "* 4: heavy rain, hail, or snow.\n",
    "* temp - temperature in Celsius, normalized by dividing by the highest temperature recorded over these two years (float, [0, 1]).\n",
    "* atemp - apparent temperature in Celsius, normalized by dividing by the highest apparent temperature over these two years (float, [0, 1]). Apparent temperature quantifies the temperature perceived by humans, combining wind chill, humidity, and actual temperature.\n",
    "* hum - percentage of humidity (float, [0, 1]).\n",
    "* windspeed - wind speed, normalized by dividing by the highest speed recorded over these two years (float, [0, 1])\n",
    "* cnt - number of bikes rented (integer) Train set only, value to predict."
   ]
  },
  {
   "cell_type": "code",
   "execution_count": 147,
   "metadata": {
    "collapsed": false
   },
   "outputs": [
    {
     "name": "stdout",
     "output_type": "stream",
     "text": [
      "Populating the interactive namespace from numpy and matplotlib\n"
     ]
    }
   ],
   "source": [
    "import numpy as np\n",
    "%pylab inline"
   ]
  },
  {
   "cell_type": "code",
   "execution_count": 179,
   "metadata": {
    "collapsed": false
   },
   "outputs": [
    {
     "name": "stdout",
     "output_type": "stream",
     "text": [
      "(10886, 15)\n"
     ]
    }
   ],
   "source": [
    "# Load the features\n",
    "X = np.loadtxt('data/train_transformed.csv', delimiter=',', \n",
    "               skiprows=1, usecols=range(0, 15))\n",
    "\n",
    "print X.shape"
   ]
  },
  {
   "cell_type": "code",
   "execution_count": 182,
   "metadata": {
    "collapsed": false
   },
   "outputs": [
    {
     "name": "stdout",
     "output_type": "stream",
     "text": [
      "(15,)\n"
     ]
    }
   ],
   "source": [
    "# Load the features labels\n",
    "Xl = np.loadtxt('data/labels.csv',dtype= str, delimiter=',',usecols=range(0,15))\n",
    "\n",
    "print Xl.shape"
   ]
  },
  {
   "cell_type": "code",
   "execution_count": 164,
   "metadata": {
    "collapsed": false
   },
   "outputs": [
    {
     "name": "stdout",
     "output_type": "stream",
     "text": [
      "(10886,)\n"
     ]
    }
   ],
   "source": [
    "# Load the target \n",
    "y = np.loadtxt('data/train_transformed.csv', delimiter=',', \n",
    "               skiprows=1, usecols=[16])\n",
    "\n",
    "print y.shape"
   ]
  },
  {
   "cell_type": "code",
   "execution_count": 165,
   "metadata": {
    "collapsed": false
   },
   "outputs": [
    {
     "name": "stdout",
     "output_type": "stream",
     "text": [
      "(10886, 15)\n"
     ]
    }
   ],
   "source": [
    "# Load the test set\n",
    "T = np.loadtxt('data/test_transformed.csv',  delimiter=',', \n",
    "               skiprows=1, usecols=range(0, 15))\n",
    "\n",
    "print X.shape"
   ]
  },
  {
   "cell_type": "markdown",
   "metadata": {},
   "source": [
    "### Variables Exploration"
   ]
  },
  {
   "cell_type": "code",
   "execution_count": 196,
   "metadata": {
    "collapsed": false
   },
   "outputs": [
    {
     "data": {
      "text/plain": [
       "<matplotlib.text.Text at 0x1126db090>"
      ]
     },
     "execution_count": 196,
     "metadata": {},
     "output_type": "execute_result"
    },
    {
     "data": {
      "image/png": "[encoded data removed]",
      "text/plain": [
       "<matplotlib.figure.Figure at 0x118c0d2d0>"
      ]
     },
     "metadata": {},
     "output_type": "display_data"
    }
   ],
   "source": [
    "# Plot feature distribution\n",
    "\n",
    "idx_1 = 14 # Feature number to be plotted\n",
    "fig = plt.figure(figsize=(12, 8)) # (width, height)\n",
    "\n",
    "fig.add_subplot(221) # 2 x 2 grid, 1st subplot\n",
    "h = plt.hist(X[:, idx_1], bins=30, color='blue')\n",
    "plt.title( '%s (not scaled)' % Xl[idx_1], fontsize=16)"
   ]
  },
  {
   "cell_type": "code",
   "execution_count": 195,
   "metadata": {
    "collapsed": false
   },
   "outputs": [
    {
     "name": "stdout",
     "output_type": "stream",
     "text": [
      "Populating the interactive namespace from numpy and matplotlib\n"
     ]
    },
    {
     "data": {
      "text/plain": [
       "<matplotlib.text.Text at 0x1188bc990>"
      ]
     },
     "execution_count": 195,
     "metadata": {},
     "output_type": "execute_result"
    },
    {
     "data": {
      "image/png": "[encoded data removed]",
      "text/plain": [
       "<matplotlib.figure.Figure at 0x118b6ead0>"
      ]
     },
     "metadata": {},
     "output_type": "display_data"
    }
   ],
   "source": [
    "%pylab inline\n",
    "idx_1 = 11 # index of the first feature to plot\n",
    "idx_2 = 13 # index of the second feature to plot\n",
    "\n",
    "# Scatterplot\n",
    "plt.scatter(X[:, idx_1], X[:, idx_2], s=40, c=y)\n",
    "\n",
    "formatter = plt.FuncFormatter(lambda i, *args: y[int(i)])\n",
    "plt.colorbar(ticks=[0, 1], format=formatter)\n",
    "\n",
    "plt.xlabel(Xl[idx_1], fontsize=14)\n",
    "plt.ylabel(Xl[idx_2], fontsize=14)"
   ]
  },
  {
   "cell_type": "code",
   "execution_count": 141,
   "metadata": {
    "collapsed": false
   },
   "outputs": [],
   "source": [
    "from sklearn.naive_bayes import GaussianNB\n",
    "gnb = GaussianNB()\n",
    "\n",
    "#Fitting our model on log(1+y) may give better results because assessment is RMSLE\n",
    "#log_y = np.array(np.log(1+y), dtype=np.float_)\n",
    "\n",
    "gnb.fit(X, y)\n",
    "\n",
    "pred = gnb.predict(X)"
   ]
  },
  {
   "cell_type": "code",
   "execution_count": 142,
   "metadata": {
    "collapsed": false
   },
   "outputs": [
    {
     "data": {
      "text/plain": [
       "1.6579950391742981"
      ]
     },
     "execution_count": 142,
     "metadata": {},
     "output_type": "execute_result"
    }
   ],
   "source": [
    "#Calculating the result: RMSLE\n",
    "\n",
    "n_samples, n_features = X.shape\n",
    "\n",
    "# \\epsilon = \\sqrt{\\frac{1}{n} \\sum_{i=1}^n (\\log(p_i + 1) - \\log(a_i+1))^2 }\n",
    "\n",
    "def sle(actual, predicted):\n",
    "    return (np.power(np.log(np.array(actual)+1) - np.log(np.array(predicted)+1), 2))\n",
    "\n",
    "def msle(actual, predicted):\n",
    "    return np.mean(sle(actual, predicted))\n",
    "\n",
    "def rmsle(actual, predicted):\n",
    "    return np.sqrt(msle(actual, predicted))\n",
    "\n",
    "rmsle(y,pred)"
   ]
  },
  {
   "cell_type": "code",
   "execution_count": 143,
   "metadata": {
    "collapsed": false
   },
   "outputs": [],
   "source": [
    "# Set up a stratified 10-fold cross-validation\n",
    "from sklearn import cross_validation\n",
    "folds = cross_validation.StratifiedKFold(y, 10, shuffle=True)"
   ]
  },
  {
   "cell_type": "code",
   "execution_count": 144,
   "metadata": {
    "collapsed": false
   },
   "outputs": [
    {
     "name": "stdout",
     "output_type": "stream",
     "text": [
      "Fold 0\n",
      "\t 9638 training points\n",
      "\t 1248 test points\n",
      "Fold 1\n",
      "\t 9672 training points\n",
      "\t 1214 test points\n",
      "Fold 2\n",
      "\t 9712 training points\n",
      "\t 1174 test points\n",
      "Fold 3\n",
      "\t 9741 training points\n",
      "\t 1145 test points\n",
      "Fold 4\n",
      "\t 9798 training points\n",
      "\t 1088 test points\n",
      "Fold 5\n",
      "\t 9831 training points\n",
      "\t 1055 test points\n",
      "Fold 6\n",
      "\t 9847 training points\n",
      "\t 1039 test points\n",
      "Fold 7\n",
      "\t 9877 training points\n",
      "\t 1009 test points\n",
      "Fold 8\n",
      "\t 9915 training points\n",
      "\t 971 test points\n",
      "Fold 9\n",
      "\t 9943 training points\n",
      "\t 943 test points\n"
     ]
    }
   ],
   "source": [
    "# This is one way to access the training and test points\n",
    "for ix, (tr, te) in enumerate(folds):\n",
    "    print \"Fold %d\" % ix\n",
    "    print \"\\t %d training points\" % len(tr)\n",
    "    print \"\\t %d test points\" % len(te)"
   ]
  },
  {
   "cell_type": "code",
   "execution_count": 145,
   "metadata": {
    "collapsed": false
   },
   "outputs": [],
   "source": [
    "y_pred_cv = np.zeros(y.shape)\n",
    "\n",
    "for ix, (tr, te) in enumerate(folds):\n",
    "    gnb.fit(X[tr],y[tr])\n",
    "    y_pred_cv[te]=gnb.predict(X[te])"
   ]
  },
  {
   "cell_type": "code",
   "execution_count": 130,
   "metadata": {
    "collapsed": false
   },
   "outputs": [
    {
     "data": {
      "text/plain": [
       "1.651149200200384"
      ]
     },
     "execution_count": 130,
     "metadata": {},
     "output_type": "execute_result"
    }
   ],
   "source": [
    "#Cross Validated RMSLE\n",
    "rmsle(y, y_pred_cv)"
   ]
  },
  {
   "cell_type": "code",
   "execution_count": null,
   "metadata": {
    "collapsed": true
   },
   "outputs": [],
   "source": []
  }
 ],
 "metadata": {
  "anaconda-cloud": {},
  "kernelspec": {
   "display_name": "Python [default]",
   "language": "python",
   "name": "python2"
  },
  "language_info": {
   "codemirror_mode": {
    "name": "ipython",
    "version": 2
   },
   "file_extension": ".py",
   "mimetype": "text/x-python",
   "name": "python",
   "nbconvert_exporter": "python",
   "pygments_lexer": "ipython2",
   "version": "2.7.12"
  }
 },
 "nbformat": 4,
 "nbformat_minor": 1
}
