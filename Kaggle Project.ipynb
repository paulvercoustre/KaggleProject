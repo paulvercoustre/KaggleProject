{
 "cells": [
  {
   "cell_type": "markdown",
   "metadata": {},
   "source": [
    "### Loading the Data\n",
    "\n",
    "* instant - id of the record (integer)\n",
    "* dteday - date of the record (yr-month-day)\n",
    "* season - season of the record (integer, 1-4)\n",
    "* 1: Spring\n",
    "* 2: Summer\n",
    "* 3: Fall\n",
    "* 4: Winter\n",
    "* yr - year of the record(integer, 0-1)\n",
    "* 0: 2011\n",
    "* 1: 2012\n",
    "* mth - month of the record (integer, 1-12)\n",
    "* hr - hour of the record (integer, 0-23)\n",
    "* holiday - whether the day is a holiday or not (integer, 0-1)\n",
    "* weekday - day of the week (integer, 1-7)\n",
    "* workingday - whether the day is a working day (neither holiday nor weekend) or not (integer, 0-1)\n",
    "* wheathersit - weather situation (integer, 1-4)\n",
    "* 1: clear, few clouds, or partly cloudy\n",
    "* 2: mist (no precipitation)\n",
    "* 3: light rain or light snow\n",
    "* 4: heavy rain, hail, or snow.\n",
    "* temp - temperature in Celsius, normalized by dividing by the highest temperature recorded over these two years (float, [0, 1]).\n",
    "* atemp - apparent temperature in Celsius, normalized by dividing by the highest apparent temperature over these two years (float, [0, 1]). Apparent temperature quantifies the temperature perceived by humans, combining wind chill, humidity, and actual temperature.\n",
    "* hum - percentage of humidity (float, [0, 1]).\n",
    "* windspeed - wind speed, normalized by dividing by the highest speed recorded over these two years (float, [0, 1])\n",
    "* cnt - number of bikes rented (integer) Train set only, value to predict."
   ]
  },
  {
   "cell_type": "code",
   "execution_count": 95,
   "metadata": {
    "collapsed": true
   },
   "outputs": [],
   "source": [
    "import numpy as np"
   ]
  },
  {
   "cell_type": "code",
   "execution_count": 96,
   "metadata": {
    "collapsed": false
   },
   "outputs": [
    {
     "name": "stdout",
     "output_type": "stream",
     "text": [
      "(10886, 15)\n"
     ]
    }
   ],
   "source": [
    "# Load the features\n",
    "X = np.loadtxt('data/train_transformed.csv',  delimiter=',', \n",
    "               skiprows=1, usecols=range(0, 15))\n",
    "\n",
    "print X.shape"
   ]
  },
  {
   "cell_type": "code",
   "execution_count": 97,
   "metadata": {
    "collapsed": false
   },
   "outputs": [
    {
     "name": "stdout",
     "output_type": "stream",
     "text": [
      "(10886,)\n"
     ]
    }
   ],
   "source": [
    "# Load the target \n",
    "y = np.loadtxt('data/train_transformed.csv', delimiter=',', \n",
    "               skiprows=1, usecols=[16])\n",
    "\n",
    "print y.shape"
   ]
  },
  {
   "cell_type": "code",
   "execution_count": 98,
   "metadata": {
    "collapsed": false
   },
   "outputs": [
    {
     "name": "stdout",
     "output_type": "stream",
     "text": [
      "(10886, 15)\n"
     ]
    }
   ],
   "source": [
    "# Load the test set\n",
    "T = np.loadtxt('data/test_transformed.csv',  delimiter=',', \n",
    "               skiprows=1, usecols=range(0, 15))\n",
    "\n",
    "print X.shape"
   ]
  },
  {
   "cell_type": "code",
   "execution_count": 119,
   "metadata": {
    "collapsed": false
   },
   "outputs": [
    {
     "name": "stdout",
     "output_type": "stream",
     "text": [
      "[ 2.77258872  3.68887945  3.4657359  ...,  5.12396398  4.8598124\n",
      "  4.47733681]\n",
      "(10886,)\n",
      "(10886,)\n"
     ]
    }
   ],
   "source": [
    "from sklearn.naive_bayes import GaussianNB\n",
    "gnb = GaussianNB()\n",
    "\n",
    "log_y = np.array(np.log(y), dtype=np.float_)\n",
    "print log_y\n",
    "print log_y.shape\n",
    "print y.shape\n",
    "\n",
    "gnb.fit(X, y)\n",
    "\n",
    "pred = gnb.predict(X)"
   ]
  },
  {
   "cell_type": "code",
   "execution_count": 120,
   "metadata": {
    "collapsed": false
   },
   "outputs": [
    {
     "data": {
      "text/plain": [
       "1.6579950391742981"
      ]
     },
     "execution_count": 120,
     "metadata": {},
     "output_type": "execute_result"
    }
   ],
   "source": [
    "#Calculating result\n",
    "\n",
    "n_samples, n_features = X.shape\n",
    "\n",
    "# \\epsilon = \\sqrt{\\frac{1}{n} \\sum_{i=1}^n (\\log(p_i + 1) - \\log(a_i+1))^2 }\n",
    "\n",
    "def sle(actual, predicted):\n",
    "    return (np.power(np.log(np.array(actual)+1) - np.log(np.array(predicted)+1), 2))\n",
    "\n",
    "def msle(actual, predicted):\n",
    "    return np.mean(sle(actual, predicted))\n",
    "\n",
    "def rmsle(actual, predicted):\n",
    "    return np.sqrt(msle(actual, predicted))\n",
    "\n",
    "rmsle(y,pred)"
   ]
  },
  {
   "cell_type": "code",
   "execution_count": 121,
   "metadata": {
    "collapsed": false
   },
   "outputs": [],
   "source": [
    "# Set up a stratified 10-fold cross-validation\n",
    "from sklearn import cross_validation\n",
    "folds = cross_validation.StratifiedKFold(y, 10, shuffle=True)"
   ]
  },
  {
   "cell_type": "code",
   "execution_count": 122,
   "metadata": {
    "collapsed": false
   },
   "outputs": [
    {
     "name": "stdout",
     "output_type": "stream",
     "text": [
      "Fold 0\n",
      "\t 9638 training points\n",
      "\t 1248 test points\n",
      "Fold 1\n",
      "\t 9658 training points\n",
      "\t 1228 test points\n",
      "Fold 2\n",
      "\t 9708 training points\n",
      "\t 1178 test points\n",
      "Fold 3\n",
      "\t 9750 training points\n",
      "\t 1136 test points\n",
      "Fold 4\n",
      "\t 9796 training points\n",
      "\t 1090 test points\n",
      "Fold 5\n",
      "\t 9827 training points\n",
      "\t 1059 test points\n",
      "Fold 6\n",
      "\t 9846 training points\n",
      "\t 1040 test points\n",
      "Fold 7\n",
      "\t 9896 training points\n",
      "\t 990 test points\n",
      "Fold 8\n",
      "\t 9911 training points\n",
      "\t 975 test points\n",
      "Fold 9\n",
      "\t 9944 training points\n",
      "\t 942 test points\n"
     ]
    }
   ],
   "source": [
    "# This is one way to access the training and test points\n",
    "for ix, (tr, te) in enumerate(folds):\n",
    "    print \"Fold %d\" % ix\n",
    "    print \"\\t %d training points\" % len(tr)\n",
    "    print \"\\t %d test points\" % len(te)"
   ]
  },
  {
   "cell_type": "code",
   "execution_count": 123,
   "metadata": {
    "collapsed": false
   },
   "outputs": [],
   "source": [
    "y_pred_cv = np.zeros(y.shape)\n",
    "\n",
    "for ix, (tr, te) in enumerate(folds):\n",
    "    gnb.fit(X[tr],y[tr])\n",
    "    y_pred_cv[te]=gnb.predict(X[te])"
   ]
  },
  {
   "cell_type": "code",
   "execution_count": 124,
   "metadata": {
    "collapsed": false
   },
   "outputs": [
    {
     "data": {
      "text/plain": [
       "1.6627251920004475"
      ]
     },
     "execution_count": 124,
     "metadata": {},
     "output_type": "execute_result"
    }
   ],
   "source": [
    "#Cross Validated RMSLE\n",
    "rmsle(y, y_pred_cv)"
   ]
  },
  {
   "cell_type": "code",
   "execution_count": null,
   "metadata": {
    "collapsed": true
   },
   "outputs": [],
   "source": []
  }
 ],
 "metadata": {
  "anaconda-cloud": {},
  "kernelspec": {
   "display_name": "Python [default]",
   "language": "python",
   "name": "python2"
  },
  "language_info": {
   "codemirror_mode": {
    "name": "ipython",
    "version": 2
   },
   "file_extension": ".py",
   "mimetype": "text/x-python",
   "name": "python",
   "nbconvert_exporter": "python",
   "pygments_lexer": "ipython2",
   "version": "2.7.12"
  }
 },
 "nbformat": 4,
 "nbformat_minor": 1
}
