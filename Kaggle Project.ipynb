{
 "cells": [
  {
   "cell_type": "markdown",
   "metadata": {},
   "source": [
    "### Loading the Data\n",
    "\n",
    "* instant - id of the record (integer)\n",
    "* dteday - date of the record (yr-month-day)\n",
    "* season - season of the record (integer, 1-4)\n",
    "* 1: Spring\n",
    "* 2: Summer\n",
    "* 3: Fall\n",
    "* 4: Winter\n",
    "* yr - year of the record(integer, 0-1)\n",
    "* 0: 2011\n",
    "* 1: 2012\n",
    "* mth - month of the record (integer, 1-12)\n",
    "* hr - hour of the record (integer, 0-23)\n",
    "* holiday - whether the day is a holiday or not (integer, 0-1)\n",
    "* weekday - day of the week (integer, 1-7)\n",
    "* workingday - whether the day is a working day (neither holiday nor weekend) or not (integer, 0-1)\n",
    "* wheathersit - weather situation (integer, 1-4)\n",
    "* 1: clear, few clouds, or partly cloudy\n",
    "* 2: mist (no precipitation)\n",
    "* 3: light rain or light snow\n",
    "* 4: heavy rain, hail, or snow.\n",
    "* temp - temperature in Celsius, normalized by dividing by the highest temperature recorded over these two years (float, [0, 1]).\n",
    "* atemp - apparent temperature in Celsius, normalized by dividing by the highest apparent temperature over these two years (float, [0, 1]). Apparent temperature quantifies the temperature perceived by humans, combining wind chill, humidity, and actual temperature.\n",
    "* hum - percentage of humidity (float, [0, 1]).\n",
    "* windspeed - wind speed, normalized by dividing by the highest speed recorded over these two years (float, [0, 1])\n",
    "* cnt - number of bikes rented (integer) Train set only, value to predict."
   ]
  },
  {
   "cell_type": "code",
   "execution_count": 2,
   "metadata": {
    "collapsed": false
   },
   "outputs": [
    {
     "name": "stdout",
     "output_type": "stream",
     "text": [
      "Populating the interactive namespace from numpy and matplotlib\n"
     ]
    }
   ],
   "source": [
    "import numpy as np\n",
    "import scipy as sp\n",
    "%pylab inline"
   ]
  },
  {
   "cell_type": "code",
   "execution_count": 83,
   "metadata": {
    "collapsed": false,
    "scrolled": false
   },
   "outputs": [
    {
     "name": "stdout",
     "output_type": "stream",
     "text": [
      "(10886, 12)\n",
      "[ 1.      0.      1.      0.      0.      6.      0.      1.      0.24\n",
      "  0.2879  0.81    0.    ]\n",
      "(10886,)\n",
      "16.0\n"
     ]
    }
   ],
   "source": [
    "# Load the training set\n",
    "# Load the features\n",
    "A = np.loadtxt('data/train.csv', delimiter=',', \n",
    "               skiprows=1, usecols=(2,3,4,5,6,7,8,9,10,11,12,13))\n",
    "\n",
    "# Load the labels\n",
    "y = np.loadtxt('data/train.csv', delimiter=',', skiprows=1, usecols=[14])\n",
    "\n",
    "print A.shape\n",
    "print A[0,:]\n",
    "print y.shape\n",
    "print y[0]"
   ]
  },
  {
   "cell_type": "code",
   "execution_count": 84,
   "metadata": {
    "collapsed": false
   },
   "outputs": [
    {
     "name": "stdout",
     "output_type": "stream",
     "text": [
      "(12,)\n",
      "['season' 'yr' 'mnth' 'hr' 'holiday' 'weekday' 'workingday' 'weathersit'\n",
      " 'temp' 'atemp' 'hum' 'windspeed']\n"
     ]
    }
   ],
   "source": [
    "# Load the features names\n",
    "n = np.loadtxt('data/features_names.csv',dtype= str, delimiter=',',usecols=(2,3,4,5,6,7,8,9,10,11,12,13))\n",
    "\n",
    "print n.shape\n",
    "print n"
   ]
  },
  {
   "cell_type": "code",
   "execution_count": 85,
   "metadata": {
    "collapsed": false
   },
   "outputs": [
    {
     "name": "stdout",
     "output_type": "stream",
     "text": [
      "(6493, 12)\n",
      "[ 1.      0.      1.      0.      0.      4.      1.      1.      0.26\n",
      "  0.2273  0.56    0.3881]\n",
      "[   432.    433.    434. ...,  17377.  17378.  17379.]\n"
     ]
    }
   ],
   "source": [
    "# Load the training set\n",
    "B = np.loadtxt('data/test.csv', delimiter=',', \n",
    "               skiprows=1,  usecols=(2,3,4,5,6,7,8,9,10,11,12,13))\n",
    "\n",
    "print B.shape\n",
    "print B[0,:]\n",
    "\n",
    "# Load 'instant' column for test set\n",
    "inst = np.loadtxt('data/test_instant.csv', skiprows=1)\n",
    "inst = transpose(inst)\n",
    "print inst"
   ]
  },
  {
   "cell_type": "markdown",
   "metadata": {},
   "source": [
    "### Variables Exploration"
   ]
  },
  {
   "cell_type": "code",
   "execution_count": 86,
   "metadata": {
    "collapsed": false
   },
   "outputs": [
    {
     "name": "stdout",
     "output_type": "stream",
     "text": [
      "['season' 'yr' 'mnth' 'hr' 'holiday' 'weekday' 'workingday' 'weathersit'\n",
      " 'temp' 'atemp' 'hum' 'windspeed']\n"
     ]
    }
   ],
   "source": [
    "# Feature labels\n",
    "print n"
   ]
  },
  {
   "cell_type": "code",
   "execution_count": 7,
   "metadata": {
    "collapsed": false,
    "scrolled": true
   },
   "outputs": [
    {
     "data": {
      "text/plain": [
       "<matplotlib.text.Text at 0x10af584d0>"
      ]
     },
     "execution_count": 7,
     "metadata": {},
     "output_type": "execute_result"
    },
    {
     "data": {
      "image/png": "[encoded data removed]",
      "text/plain": [
       "<matplotlib.figure.Figure at 0x10adf4e90>"
      ]
     },
     "metadata": {},
     "output_type": "display_data"
    }
   ],
   "source": [
    "# Plot feature distribution\n",
    "\n",
    "idx_1 = 11 # Feature number to be plotted\n",
    "fig = plt.figure(figsize=(12, 8)) # (width, height)\n",
    "\n",
    "fig.add_subplot(221) # 2 x 2 grid, 1st subplot\n",
    "h = plt.hist(A[:,idx_1], bins=30, color='blue',histtype='stepfilled')\n",
    "plt.title( '%s (not scaled)' % n[idx_1], fontsize=16)"
   ]
  },
  {
   "cell_type": "code",
   "execution_count": 9,
   "metadata": {
    "collapsed": false
   },
   "outputs": [
    {
     "name": "stdout",
     "output_type": "stream",
     "text": [
      "correlation matrix:\n",
      "[[ 1.          0.98494811]\n",
      " [ 0.98494811  1.        ]]\n"
     ]
    },
    {
     "data": {
      "image/png": "[encoded data removed]",
      "text/plain": [
       "<matplotlib.figure.Figure at 0x10aabd2d0>"
      ]
     },
     "metadata": {},
     "output_type": "display_data"
    }
   ],
   "source": [
    "# Plot 2 features for corr exploration\n",
    "\n",
    "idx_1 = 9\n",
    "idx_2 = 10\n",
    "plt.scatter(A[:,idx_1], A[:,idx_2])\n",
    "plt.title( '%s vs %s' % (n[idx_1], n[idx_2]), fontsize=16)\n",
    "plt.xlabel(n[idx_1], fontsize=14)\n",
    "plt.ylabel(n[idx_2], fontsize=14)\n",
    "\n",
    "print 'correlation matrix:'\n",
    "print numpy.corrcoef(A[:,idx_1], A[:,idx_2])"
   ]
  },
  {
   "cell_type": "code",
   "execution_count": 87,
   "metadata": {
    "collapsed": true
   },
   "outputs": [],
   "source": [
    "#Creating dummy variables for linear regression\n",
    "import pandas as pd\n",
    "season = pd.get_dummies(A[:,0])\n",
    "month = pd.get_dummies(A[:,2])\n",
    "hour = pd.get_dummies(A[:,3])\n",
    "day = pd.get_dummies(A[:,5])\n",
    "weather = pd.get_dummies(A[:,7])"
   ]
  },
  {
   "cell_type": "code",
   "execution_count": 88,
   "metadata": {
    "collapsed": false
   },
   "outputs": [
    {
     "name": "stdout",
     "output_type": "stream",
     "text": [
      "[ 1.  0.  0.  0.  1.  0.  0.  0.  0.  0.  0.  0.  0.  0.  0.  0.  1.  0.\n",
      "  0.  0.  0.  0.  0.  0.  0.  0.  0.  0.  0.  0.  0.  0.  0.  0.  0.  0.\n",
      "  0.  0.  0.  0.  0.  0.  0.  0.  0.  0.  1.  1.  0.  0.  0.]\n",
      "(10886, 51)\n"
     ]
    }
   ],
   "source": [
    "#Combining all dummy variables in a single array\n",
    "dummies = np.concatenate((season, month, hour, day,weather),axis=1) \n",
    "print dummies[0,:]\n",
    "print dummies.shape"
   ]
  },
  {
   "cell_type": "code",
   "execution_count": 89,
   "metadata": {
    "collapsed": false
   },
   "outputs": [
    {
     "name": "stdout",
     "output_type": "stream",
     "text": [
      "['season' 'yr' 'mnth' 'hr' 'holiday' 'weekday' 'workingday' 'weathersit'\n",
      " 'temp' 'atemp' 'hum' 'windspeed']\n"
     ]
    }
   ],
   "source": [
    "print n"
   ]
  },
  {
   "cell_type": "code",
   "execution_count": 93,
   "metadata": {
    "collapsed": false
   },
   "outputs": [
    {
     "name": "stdout",
     "output_type": "stream",
     "text": [
      "(10886, 4)\n"
     ]
    }
   ],
   "source": [
    "# Standardise temp, atemp, hum & windspeed\n",
    "from sklearn import preprocessing\n",
    "scaler = preprocessing.StandardScaler()\n",
    "\n",
    "#Create an array with the variables to standardise only\n",
    "S = np.delete(A,range(0,8),1)\n",
    "print S.shape\n",
    "S = scaler.fit_transform(S)"
   ]
  },
  {
   "cell_type": "code",
   "execution_count": 94,
   "metadata": {
    "collapsed": false,
    "scrolled": true
   },
   "outputs": [
    {
     "name": "stdout",
     "output_type": "stream",
     "text": [
      "(10886, 3)\n"
     ]
    }
   ],
   "source": [
    "#Creating an array without variables transformed in dummy & standardised variables\n",
    "a = np.delete(A,(0,2,3,5,7,8,9,10,11),1)\n",
    "print a.shape"
   ]
  },
  {
   "cell_type": "code",
   "execution_count": 95,
   "metadata": {
    "collapsed": false
   },
   "outputs": [
    {
     "name": "stdout",
     "output_type": "stream",
     "text": [
      "(10886, 58)\n",
      "[ 1.          0.          0.          0.          1.          0.          0.\n",
      "  0.          0.          0.          0.          0.          0.          0.\n",
      "  0.          0.          1.          0.          0.          0.          0.\n",
      "  0.          0.          0.          0.          0.          0.          0.\n",
      "  0.          0.          0.          0.          0.          0.          0.\n",
      "  0.          0.          0.          0.          0.          0.          0.\n",
      "  0.          0.          0.          0.          1.          1.          0.\n",
      "  0.          0.          0.          0.          0.         -1.33366069\n",
      " -1.09273697  0.99321305 -1.56775367]\n"
     ]
    }
   ],
   "source": [
    "#Combine non-dummy and dummy variables in a single array\n",
    "X = np.concatenate((dummies,a,S),axis=1)\n",
    "print X.shape\n",
    "print X[0,:]"
   ]
  },
  {
   "cell_type": "code",
   "execution_count": 96,
   "metadata": {
    "collapsed": false
   },
   "outputs": [
    {
     "name": "stdout",
     "output_type": "stream",
     "text": [
      "(6493, 58)\n",
      "[ 1.          0.          0.          0.          1.          0.          0.\n",
      "  0.          0.          0.          0.          0.          0.          0.\n",
      "  0.          0.          1.          0.          0.          0.          0.\n",
      "  0.          0.          0.          0.          0.          0.          0.\n",
      "  0.          0.          0.          0.          0.          0.          0.\n",
      "  0.          0.          0.          0.          0.          0.          0.\n",
      "  0.          0.          1.          0.          0.          1.          0.\n",
      "  0.          0.          0.          0.          1.         -1.23596641\n",
      " -1.44019256 -0.42117208  1.62088819]\n"
     ]
    }
   ],
   "source": [
    "# Transforming test set variables...\n",
    "\n",
    "#Creating dummy variables\n",
    "import pandas as pd\n",
    "seasonB = pd.get_dummies(B[:,0])\n",
    "monthB = pd.get_dummies(B[:,2])\n",
    "hourB = pd.get_dummies(B[:,3])\n",
    "dayB = pd.get_dummies(B[:,5])\n",
    "weatherB = pd.get_dummies(B[:,7])\n",
    "\n",
    "#Combining all dummy variables in a single array\n",
    "dummies = np.concatenate((seasonB, monthB, hourB, dayB,weatherB),axis=1) \n",
    "#print dummies[0,:]\n",
    "#print dummies.shape\n",
    "\n",
    "# Standardise temp, atemp, hum & windspeed\n",
    "from sklearn import preprocessing\n",
    "scaler = preprocessing.StandardScaler()\n",
    "\n",
    "ST = np.delete(B,range(0,8),1)\n",
    "#print ST.shape\n",
    "ST = scaler.fit_transform(ST)\n",
    "\n",
    "#Creating a copy of X\n",
    "b = np.delete(B,(0,2,3,5,7,8,9,10,11),1)\n",
    "#print b.shape\n",
    "\n",
    "#Combine non-dummy and dummy variables in a single array\n",
    "T = np.concatenate((dummies,b,ST),axis=1)\n",
    "print T.shape\n",
    "print T[0,:]"
   ]
  },
  {
   "cell_type": "code",
   "execution_count": 17,
   "metadata": {
    "collapsed": true
   },
   "outputs": [],
   "source": [
    "#del X"
   ]
  },
  {
   "cell_type": "markdown",
   "metadata": {},
   "source": [
    "### Label Distribution"
   ]
  },
  {
   "cell_type": "code",
   "execution_count": 97,
   "metadata": {
    "collapsed": false
   },
   "outputs": [
    {
     "data": {
      "text/plain": [
       "<matplotlib.text.Text at 0x118fcfa90>"
      ]
     },
     "execution_count": 97,
     "metadata": {},
     "output_type": "execute_result"
    },
    {
     "data": {
      "image/png": "[encoded data removed]",
      "text/plain": [
       "<matplotlib.figure.Figure at 0x118fd8d50>"
      ]
     },
     "metadata": {},
     "output_type": "display_data"
    }
   ],
   "source": [
    "# Plot label distribution\n",
    "\n",
    "fig = plt.figure(figsize=(12, 8)) # (width, height)\n",
    "\n",
    "fig.add_subplot(221) # 2 x 2 grid, 1st subplot\n",
    "h = plt.hist(y, bins=30, color='blue')\n",
    "plt.title( 'number of bicycles', fontsize=16)"
   ]
  },
  {
   "cell_type": "code",
   "execution_count": 144,
   "metadata": {
    "collapsed": false
   },
   "outputs": [
    {
     "data": {
      "text/plain": [
       "<matplotlib.text.Text at 0x120c0c710>"
      ]
     },
     "execution_count": 144,
     "metadata": {},
     "output_type": "execute_result"
    },
    {
     "data": {
      "image/png": "[encoded data removed]",
      "text/plain": [
       "<matplotlib.figure.Figure at 0x12094dd50>"
      ]
     },
     "metadata": {},
     "output_type": "display_data"
    }
   ],
   "source": [
    "# Plot label distribution\n",
    "\n",
    "fig = plt.figure(figsize=(16, 10)) # (width, height)\n",
    "\n",
    "fig.add_subplot(221) # 2 x 2 grid, 1st subplot\n",
    "h = plt.hist([y,ypred_clf], bins=50, color=['blue','orange'])\n",
    "plt.title( 'number of bicycles', fontsize=16)"
   ]
  },
  {
   "cell_type": "markdown",
   "metadata": {},
   "source": [
    "### RMSLE Formula"
   ]
  },
  {
   "cell_type": "code",
   "execution_count": 99,
   "metadata": {
    "collapsed": false
   },
   "outputs": [],
   "source": [
    "#Calculating the result: RMSLE\n",
    "\n",
    "n_samples, n_features = X.shape\n",
    "\n",
    "# \\epsilon = \\sqrt{\\frac{1}{n} \\sum_{i=1}^n (\\log(p_i + 1) - \\log(a_i+1))^2 }\n",
    "\n",
    "def sle(actual, predicted):\n",
    "    return (np.power(np.log(np.array(actual)+1) - np.log(np.array(predicted)+1), 2))\n",
    "\n",
    "def msle(actual, predicted):\n",
    "    return np.mean(sle(actual, predicted))\n",
    "\n",
    "def rmsle(actual, predicted):\n",
    "    return np.sqrt(msle(actual, predicted))"
   ]
  },
  {
   "cell_type": "markdown",
   "metadata": {},
   "source": [
    "### Cross-Validation Function"
   ]
  },
  {
   "cell_type": "code",
   "execution_count": 100,
   "metadata": {
    "collapsed": false
   },
   "outputs": [],
   "source": [
    "# Set up a stratified 10-fold cross-validation\n",
    "from sklearn import cross_validation\n",
    "folds = cross_validation.StratifiedKFold(y, 10, shuffle=True, random_state=0)"
   ]
  },
  {
   "cell_type": "code",
   "execution_count": 101,
   "metadata": {
    "collapsed": false
   },
   "outputs": [],
   "source": [
    "# This is one way to access the training and test points\n",
    "#for ix, (tr, te) in enumerate(folds):\n",
    "#    print \"Fold %d\" % ix\n",
    "#    print \"\\t %d training points\" % len(tr)\n",
    "#    print \"\\t %d test points\" % len(te)"
   ]
  },
  {
   "cell_type": "code",
   "execution_count": 102,
   "metadata": {
    "collapsed": true
   },
   "outputs": [],
   "source": [
    "def cross_validate(design_matrix, labels, classifier, cv_folds):\n",
    "    n_samples, n_features = design_matrix.shape\n",
    "    pred = np.zeros(labels.shape)\n",
    "    #y_prob = np.zeros((n_samples,2))\n",
    "    \n",
    "    for tr, te in cv_folds:\n",
    "        classifier.fit(design_matrix[tr],labels[tr])\n",
    "        pred[te] = classifier.predict(design_matrix[te])\n",
    "        #y_prob[te] = classifier.predict_proba(design_matrix[te])\n",
    "    return pred"
   ]
  },
  {
   "cell_type": "markdown",
   "metadata": {},
   "source": [
    "### Linear Regression"
   ]
  },
  {
   "cell_type": "code",
   "execution_count": 148,
   "metadata": {
    "collapsed": false
   },
   "outputs": [
    {
     "name": "stdout",
     "output_type": "stream",
     "text": [
      "[  18.    8.    5. ...,  182.  148.   95.]\n"
     ]
    }
   ],
   "source": [
    "from sklearn import linear_model\n",
    "#Instantiate the model\n",
    "clf = linear_model.LinearRegression(fit_intercept=False)\n",
    "#ypred_clf = cross_validate(X,y,clf,folds)\n",
    "\n",
    "# Fit the model & predict\n",
    "ypred_clf = cross_validate(X,log(1+y),clf,folds)\n",
    "ypred_clf = exp(ypred_clf)-1\n",
    "ypred_clf = np.round(ypred_clf,decimals=0)\n",
    "ypred_clf = np.where(ypred_clf>0, ypred_clf, 0) # Ensure negative predictions are changed to 0...\n",
    "#ypred_clf = np.where(ypred_clf<1000, ypred_clf, 1000) # Ensure some predictions are not too large..\n",
    "print ypred_clf"
   ]
  },
  {
   "cell_type": "code",
   "execution_count": 149,
   "metadata": {
    "collapsed": false
   },
   "outputs": [
    {
     "data": {
      "text/plain": [
       "{'copy_X': True, 'fit_intercept': False, 'n_jobs': 1, 'normalize': False}"
      ]
     },
     "execution_count": 149,
     "metadata": {},
     "output_type": "execute_result"
    }
   ],
   "source": [
    "clf.get_params()"
   ]
  },
  {
   "cell_type": "code",
   "execution_count": 150,
   "metadata": {
    "collapsed": false
   },
   "outputs": [
    {
     "name": "stdout",
     "output_type": "stream",
     "text": [
      "96.1982693097\n",
      "0.584825377625\n"
     ]
    }
   ],
   "source": [
    "#Calculate MSE\n",
    "from sklearn.metrics import mean_squared_error as mse\n",
    "print sqrt(mse(y,ypred_clf))\n",
    "#Cross Validated RMSLE\n",
    "print rmsle(y,ypred_clf)"
   ]
  },
  {
   "cell_type": "code",
   "execution_count": 27,
   "metadata": {
    "collapsed": false
   },
   "outputs": [],
   "source": [
    "# Comparing results with untransformed data (i.e. no dummy variables, no standardisation)\n",
    "#ypred_clf_raw = cross_validate(A,log(1+y),clf,folds)\n",
    "#ypred_clf_raw = exp(ypred_clf_raw)-1\n",
    "#ypred_clf_raw = np.where(ypred_clf_raw>0, ypred_clf_raw,0)\n",
    "#print ypred_clf_raw"
   ]
  },
  {
   "cell_type": "code",
   "execution_count": 28,
   "metadata": {
    "collapsed": false
   },
   "outputs": [
    {
     "ename": "NameError",
     "evalue": "name 'ypred_clf_raw' is not defined",
     "output_type": "error",
     "traceback": [
      "\u001b[0;31m---------------------------------------------------------------------------\u001b[0m",
      "\u001b[0;31mNameError\u001b[0m                                 Traceback (most recent call last)",
      "\u001b[0;32m<ipython-input-28-7221cc0fb44e>\u001b[0m in \u001b[0;36m<module>\u001b[0;34m()\u001b[0m\n\u001b[1;32m      1\u001b[0m \u001b[0;31m#Calculate MSE\u001b[0m\u001b[0;34m\u001b[0m\u001b[0;34m\u001b[0m\u001b[0m\n\u001b[1;32m      2\u001b[0m \u001b[0;32mfrom\u001b[0m \u001b[0msklearn\u001b[0m\u001b[0;34m.\u001b[0m\u001b[0mmetrics\u001b[0m \u001b[0;32mimport\u001b[0m \u001b[0mmean_squared_error\u001b[0m \u001b[0;32mas\u001b[0m \u001b[0mmse\u001b[0m\u001b[0;34m\u001b[0m\u001b[0m\n\u001b[0;32m----> 3\u001b[0;31m \u001b[0;32mprint\u001b[0m \u001b[0msqrt\u001b[0m\u001b[0;34m(\u001b[0m\u001b[0mmse\u001b[0m\u001b[0;34m(\u001b[0m\u001b[0my\u001b[0m\u001b[0;34m,\u001b[0m\u001b[0mypred_clf_raw\u001b[0m\u001b[0;34m)\u001b[0m\u001b[0;34m)\u001b[0m\u001b[0;34m\u001b[0m\u001b[0m\n\u001b[0m\u001b[1;32m      4\u001b[0m \u001b[0;34m\u001b[0m\u001b[0m\n\u001b[1;32m      5\u001b[0m \u001b[0;31m#Cross Validated RMSLE\u001b[0m\u001b[0;34m\u001b[0m\u001b[0;34m\u001b[0m\u001b[0m\n",
      "\u001b[0;31mNameError\u001b[0m: name 'ypred_clf_raw' is not defined"
     ]
    }
   ],
   "source": [
    "#Calculate MSE\n",
    "from sklearn.metrics import mean_squared_error as mse\n",
    "print sqrt(mse(y,ypred_clf_raw))\n",
    "\n",
    "#Cross Validated RMSLE\n",
    "print rmsle(y,ypred_clf_raw)"
   ]
  },
  {
   "cell_type": "markdown",
   "metadata": {},
   "source": [
    "It is clear that linear regression works much better with dummy variables & regularisation..."
   ]
  },
  {
   "cell_type": "markdown",
   "metadata": {},
   "source": [
    "### Ridge Regression"
   ]
  },
  {
   "cell_type": "code",
   "execution_count": 164,
   "metadata": {
    "collapsed": false
   },
   "outputs": [],
   "source": [
    "from sklearn import grid_search \n",
    "# Instantiate the model\n",
    "param_ridge = {'alpha':[1e-3,1e-2,1e-1,0, 1e1, 1e2, 1e3, 1e4, 1e5]}\n",
    "clf_ridge = grid_search.GridSearchCV(linear_model.Ridge(fit_intercept=False), param_ridge)"
   ]
  },
  {
   "cell_type": "code",
   "execution_count": 165,
   "metadata": {
    "collapsed": false
   },
   "outputs": [
    {
     "name": "stdout",
     "output_type": "stream",
     "text": [
      "Ridge(alpha=10.0, copy_X=True, fit_intercept=False, max_iter=None,\n",
      "   normalize=False, random_state=None, solver='auto', tol=0.001)\n"
     ]
    }
   ],
   "source": [
    "# Fit and predict\n",
    "ypred_ridge = cross_validate(X,log(1+y),clf_ridge,folds)\n",
    "ypred_ridge = exp(ypred_ridge)-1\n",
    "print clf_ridge.best_estimator_"
   ]
  },
  {
   "cell_type": "code",
   "execution_count": 166,
   "metadata": {
    "collapsed": false
   },
   "outputs": [
    {
     "name": "stdout",
     "output_type": "stream",
     "text": [
      "(58,)\n"
     ]
    }
   ],
   "source": [
    "print clf_ridge.best_estimator_.coef_.shape"
   ]
  },
  {
   "cell_type": "code",
   "execution_count": 167,
   "metadata": {
    "collapsed": false
   },
   "outputs": [
    {
     "data": {
      "image/png": "[encoded data removed]",
      "text/plain": [
       "<matplotlib.figure.Figure at 0x11e8b1f90>"
      ]
     },
     "metadata": {},
     "output_type": "display_data"
    }
   ],
   "source": [
    "fig = plt.figure(figsize=(10, 5))\n",
    "ax = fig.add_subplot(121) # use a 1x2 subplot grid; ax will refer to the 1st subplot\n",
    "\n",
    "number_of_weights = len(clf.coef_)\n",
    "clf_weights = clf.coef_\n",
    "\n",
    "ax.plot(range(number_of_weights), clf_weights, \n",
    "         color='blue', marker='+', linestyle='')\n",
    "ax.set_xlabel('Features', fontsize=16)\n",
    "ax.set_ylabel('Weights', fontsize=16)\n",
    "ax.set_title('Linear regression weights', fontsize=16)\n",
    "ax.set_xlim([0, X.shape[1]])\n",
    "\n",
    "ax = fig.add_subplot(122) # use a 1x2 subplot grid; ax will refer to the 2nd subplot\n",
    "\n",
    "clf_ridge_weights = clf_ridge.best_estimator_.coef_\n",
    "\n",
    "ax.plot(range(number_of_weights), clf_ridge_weights, \n",
    "         color='blue', marker='+', linestyle='')\n",
    "ax.set_xlabel('Features', fontsize=16)\n",
    "ax.set_ylabel('Weights', fontsize=16)\n",
    "ax.set_title('Ridge regression weights', fontsize=16)\n",
    "ax.set_xlim([0, X.shape[1]])\n",
    "plt.tight_layout()"
   ]
  },
  {
   "cell_type": "code",
   "execution_count": 168,
   "metadata": {
    "collapsed": false,
    "scrolled": true
   },
   "outputs": [
    {
     "name": "stdout",
     "output_type": "stream",
     "text": [
      "[  17.35808702    8.42871625    5.09918674 ...,  178.9991446   148.90782672\n",
      "   97.74386713]\n"
     ]
    }
   ],
   "source": [
    "ypred_ridge = np.where(ypred_ridge>0, ypred_ridge, 0) # Ensure negative predictions are changed to 0...\n",
    "print ypred_ridge"
   ]
  },
  {
   "cell_type": "code",
   "execution_count": 169,
   "metadata": {
    "collapsed": false
   },
   "outputs": [
    {
     "name": "stdout",
     "output_type": "stream",
     "text": [
      "96.4089239676\n",
      "0.584179425984\n"
     ]
    }
   ],
   "source": [
    "print sqrt(mse(y,ypred_ridge))\n",
    "print rmsle(y,ypred_ridge)"
   ]
  },
  {
   "cell_type": "markdown",
   "metadata": {},
   "source": [
    "### Lasso Regression"
   ]
  },
  {
   "cell_type": "code",
   "execution_count": 179,
   "metadata": {
    "collapsed": true
   },
   "outputs": [],
   "source": [
    "# Instantiate the model\n",
    "params_lasso = {'alpha':[1e-3,1e-2,1e-1, 1e1, 1e2, 1e3, 1e4, 1e5]}\n",
    "clf_lasso = grid_search.GridSearchCV(linear_model.Lasso(fit_intercept=True, max_iter=10000), params_lasso)"
   ]
  },
  {
   "cell_type": "code",
   "execution_count": 175,
   "metadata": {
    "collapsed": false
   },
   "outputs": [],
   "source": [
    "linear_model.Lasso?"
   ]
  },
  {
   "cell_type": "code",
   "execution_count": 180,
   "metadata": {
    "collapsed": false
   },
   "outputs": [
    {
     "name": "stdout",
     "output_type": "stream",
     "text": [
      "Lasso(alpha=0.001, copy_X=True, fit_intercept=True, max_iter=10000,\n",
      "   normalize=False, positive=False, precompute=False, random_state=None,\n",
      "   selection='cyclic', tol=0.0001, warm_start=False)\n"
     ]
    }
   ],
   "source": [
    "# Predict and fit\n",
    "ypred_lasso = cross_validate(X,log(1+y),clf_lasso,folds)\n",
    "ypred_lasso = exp(ypred_lasso)-1\n",
    "print clf_lasso.best_estimator_"
   ]
  },
  {
   "cell_type": "code",
   "execution_count": 181,
   "metadata": {
    "collapsed": false
   },
   "outputs": [
    {
     "name": "stdout",
     "output_type": "stream",
     "text": [
      "[  17.65706051    8.41764736    5.02918845 ...,  187.60062657  155.29522092\n",
      "   98.20529469]\n"
     ]
    }
   ],
   "source": [
    "ypred_lasso = np.where(ypred_lasso>0, ypred_lasso, 0) # Ensure negative predictions are changed to 0...\n",
    "print ypred_lasso"
   ]
  },
  {
   "cell_type": "code",
   "execution_count": 182,
   "metadata": {
    "collapsed": false
   },
   "outputs": [
    {
     "name": "stdout",
     "output_type": "stream",
     "text": [
      "96.4211086862\n",
      "0.582257795162\n"
     ]
    }
   ],
   "source": [
    "print sqrt(mse(y,ypred_lasso))\n",
    "print rmsle(y,ypred_lasso)"
   ]
  },
  {
   "cell_type": "code",
   "execution_count": 118,
   "metadata": {
    "collapsed": false
   },
   "outputs": [
    {
     "data": {
      "image/png": "[encoded data removed]",
      "text/plain": [
       "<matplotlib.figure.Figure at 0x11c8a7790>"
      ]
     },
     "metadata": {},
     "output_type": "display_data"
    }
   ],
   "source": [
    "fig = plt.figure(figsize=(10, 5))\n",
    "ax = fig.add_subplot(121) # use a 1x2 subplot grid; ax will refer to the 1st subplot\n",
    "\n",
    "number_of_weights = len(clf.coef_)\n",
    "clf_weights = clf.coef_\n",
    "\n",
    "ax.plot(range(number_of_weights), clf_weights, \n",
    "         color='blue', marker='+', linestyle='')\n",
    "ax.set_xlabel('Features', fontsize=16)\n",
    "ax.set_ylabel('Weights', fontsize=16)\n",
    "ax.set_title('Linear regression weights', fontsize=16)\n",
    "ax.set_xlim([0, X.shape[1]])\n",
    "\n",
    "ax = fig.add_subplot(122) # use a 1x2 subplot grid; ax will refer to the 2nd subplot\n",
    "\n",
    "clf_lasso_weights = clf_lasso.best_estimator_.coef_\n",
    "\n",
    "ax.plot(range(number_of_weights), clf_lasso_weights, \n",
    "         color='blue', marker='+', linestyle='')\n",
    "ax.set_xlabel('Features', fontsize=16)\n",
    "ax.set_ylabel('Weights', fontsize=16)\n",
    "ax.set_title('Lasso regression weights', fontsize=16)\n",
    "ax.set_xlim([0, X.shape[1]])\n",
    "plt.tight_layout()"
   ]
  },
  {
   "cell_type": "code",
   "execution_count": 49,
   "metadata": {
    "collapsed": true
   },
   "outputs": [],
   "source": [
    "#linear_model.Lasso?"
   ]
  },
  {
   "cell_type": "markdown",
   "metadata": {},
   "source": [
    "### Elastic Net"
   ]
  },
  {
   "cell_type": "code",
   "execution_count": 211,
   "metadata": {
    "collapsed": true
   },
   "outputs": [],
   "source": [
    "# Instantiate the model\n",
    "params_elastic = {'alpha':[1e-4,1e-3,1e-2], 'l1_ratio':[0.4,0.6, 0,8]}\n",
    "clf_elastic = grid_search.GridSearchCV(linear_model.ElasticNet(fit_intercept=True, max_iter=1000), params_elastic)"
   ]
  },
  {
   "cell_type": "code",
   "execution_count": 212,
   "metadata": {
    "collapsed": false
   },
   "outputs": [
    {
     "name": "stdout",
     "output_type": "stream",
     "text": [
      "ElasticNet(alpha=0.001, copy_X=True, fit_intercept=True, l1_ratio=0.6,\n",
      "      max_iter=1000, normalize=False, positive=False, precompute=False,\n",
      "      random_state=None, selection='cyclic', tol=0.0001, warm_start=False)\n"
     ]
    }
   ],
   "source": [
    "# Predict and fit\n",
    "ypred_elastic = cross_validate(X,log(1+y),clf_elastic,folds)\n",
    "ypred_elastic = exp(ypred_elastic)-1\n",
    "print clf_elastic.best_estimator_"
   ]
  },
  {
   "cell_type": "code",
   "execution_count": 213,
   "metadata": {
    "collapsed": false
   },
   "outputs": [
    {
     "name": "stdout",
     "output_type": "stream",
     "text": [
      "[  17.65398516    8.48022921    5.09805056 ...,  179.06800502  152.95585276\n",
      "   97.22260132]\n"
     ]
    }
   ],
   "source": [
    "ypred_elastic = np.where(ypred_elastic>0, ypred_elastic, 0) # Ensure negative predictions are changed to 0...\n",
    "print ypred_elastic"
   ]
  },
  {
   "cell_type": "code",
   "execution_count": 214,
   "metadata": {
    "collapsed": false
   },
   "outputs": [
    {
     "name": "stdout",
     "output_type": "stream",
     "text": [
      "96.4791801701\n",
      "0.582078655868\n"
     ]
    }
   ],
   "source": [
    "print sqrt(mse(y,ypred_elastic))\n",
    "print rmsle(y,ypred_elastic)"
   ]
  },
  {
   "cell_type": "code",
   "execution_count": 196,
   "metadata": {
    "collapsed": true
   },
   "outputs": [],
   "source": [
    "linear_model.ElasticNet?"
   ]
  },
  {
   "cell_type": "code",
   "execution_count": 50,
   "metadata": {
    "collapsed": false
   },
   "outputs": [
    {
     "name": "stdout",
     "output_type": "stream",
     "text": [
      "[  22.78966364   13.86606875   16.02608205 ...,  194.60766487  158.70268233\n",
      "   94.8323578 ]\n"
     ]
    }
   ],
   "source": [
    "#Random Forest\n",
    "\n",
    "from sklearn.ensemble import RandomForestRegressor\n",
    "params_forest ={'n_estimators':[10]}\n",
    "clr = grid_search.GridSearchCV(RandomForestRegressor(), params_forest)\n",
    "y_random = cross_validate(X,log(1+y),clr,folds)\n",
    "\n",
    "y_random = exp(y_random)-1\n",
    "print y_random"
   ]
  },
  {
   "cell_type": "code",
   "execution_count": 454,
   "metadata": {
    "collapsed": false
   },
   "outputs": [],
   "source": [
    "#clr.get_params()\n",
    "RandomForestRegressor?"
   ]
  },
  {
   "cell_type": "code",
   "execution_count": 51,
   "metadata": {
    "collapsed": false
   },
   "outputs": [
    {
     "data": {
      "text/plain": [
       "0.32951555200717358"
      ]
     },
     "execution_count": 51,
     "metadata": {},
     "output_type": "execute_result"
    }
   ],
   "source": [
    "rmsle(y,y_random)"
   ]
  },
  {
   "cell_type": "code",
   "execution_count": 214,
   "metadata": {
    "collapsed": false
   },
   "outputs": [
    {
     "data": {
      "text/plain": [
       "2734.6071375251531"
      ]
     },
     "execution_count": 214,
     "metadata": {},
     "output_type": "execute_result"
    }
   ],
   "source": [
    "mse(y,y_random)"
   ]
  },
  {
   "cell_type": "markdown",
   "metadata": {},
   "source": [
    "### Extracting Numpy Array to CSV"
   ]
  },
  {
   "cell_type": "code",
   "execution_count": 215,
   "metadata": {
    "collapsed": false
   },
   "outputs": [
    {
     "name": "stdout",
     "output_type": "stream",
     "text": [
      "[ 2.81728668  2.32612807  1.85289264 ...,  4.63181113  4.46478481\n",
      "  4.04547416]\n",
      "[  16.    9.    5. ...,  102.   86.   56.]\n",
      "[ 16   9   5 ..., 102  86  56]\n",
      "[[  4.32000000e+02   1.60000000e+01]\n",
      " [  4.33000000e+02   9.00000000e+00]\n",
      " [  4.34000000e+02   5.00000000e+00]\n",
      " ..., \n",
      " [  1.73770000e+04   1.02000000e+02]\n",
      " [  1.73780000e+04   8.60000000e+01]\n",
      " [  1.73790000e+04   5.60000000e+01]]\n"
     ]
    }
   ],
   "source": [
    "prediction = clf_elastic.predict(T)\n",
    "print prediction\n",
    "\n",
    "prediction = exp(prediction)-1\n",
    "\n",
    "prediction = np.round(prediction,decimals=0)\n",
    "\n",
    "print prediction\n",
    "\n",
    "prediction = prediction.astype(numpy.int64)\n",
    "prediction = np.where(prediction>0, prediction, 0)\n",
    "\n",
    "print prediction\n",
    "\n",
    "prediction = transpose(prediction)\n",
    "\n",
    "submission = np.column_stack((inst,prediction))\n",
    "print submission\n",
    "\n",
    "np.savetxt(\"pred_elastic_net.csv\", submission, delimiter=\",\", fmt='%1.0f', header=\"Id,Prediction\", comments='')"
   ]
  },
  {
   "cell_type": "markdown",
   "metadata": {},
   "source": [
    "### Notes on submissions results\n",
    "\n",
    "* Linear Regression, no regularisation, rmsle = 2.58921\n",
    "* Linear Regression, no regularisation, fit_intercept = False, rmsle = 2.58876\n",
    "* Ridge Regression, l2 regularisation, alpha = 10, rmsle = 0.64672\n",
    "* Lasso Regression, l1 regularisation, alpha = 0,001, rmsle = 0.64157\n",
    "* Elastic Net Regression, alpha = 0,001, l1 ratio = 0,6 , rmsle = 0.62205"
   ]
  },
  {
   "cell_type": "markdown",
   "metadata": {
    "collapsed": true
   },
   "source": [
    "### Advice from Labs\n",
    "#Lab 3\n",
    "* Load the data -> Done\n",
    "* How many features do you have? How are they encoded?\n",
    "* Plot histograms to visualize the distribution of your features. Should you scale or normalize them?\n",
    "* Set up a cross-validation that you will use for all your evaluations. Notice there is a 'random_state' parameter to the cross-validation methods of scikit-learn, that you can use to ensure you always get the same splits. -> Done\n",
    "* [Optional] To go one step further in ensuring a fair comparison of your algorithms, you can use multiple repeats of the cross-validation procedure (using different splits each time), and report the mean & standard deviation over the repeats of the performance obtained. If you do this, you can report standard deviations in plots by using error bars.\n",
    "* Evaluate the performance of a linear regression on your data. Which evaluation metric are you using? See http://scikit-learn.org/stable/modules/model_evaluation.html#regression-metrics for help defining one.\n",
    "* Submit a linear regression predictor to the leaderboard\n",
    "\n",
    "#Lab 4\n",
    "* Cross-validate an l1-regularized linear regression (lasso) on your data, using the folds you previously set up for non-regularized linear regression. Do you obtain better performance? Can you draw some conclusions regarding the usefulness of the different features for the prediction task?\n",
    "* Cross-validate an l2-regularized linear regression (ridge regression) on your data, using the folds you previously set up for non-regularized linear regression. Do you obtain better performance?\n",
    "* Submit predictions to the leaderboard for both those models. Do the results on the leaderboard data match your expectations?"
   ]
  }
 ],
 "metadata": {
  "anaconda-cloud": {},
  "kernelspec": {
   "display_name": "Python [default]",
   "language": "python",
   "name": "python2"
  },
  "language_info": {
   "codemirror_mode": {
    "name": "ipython",
    "version": 2
   },
   "file_extension": ".py",
   "mimetype": "text/x-python",
   "name": "python",
   "nbconvert_exporter": "python",
   "pygments_lexer": "ipython2",
   "version": "2.7.12"
  }
 },
 "nbformat": 4,
 "nbformat_minor": 1
}
